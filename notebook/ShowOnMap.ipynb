{
 "cells": [
  {
   "cell_type": "code",
   "execution_count": 6,
   "metadata": {},
   "outputs": [
    {
     "name": "stdout",
     "output_type": "stream",
     "text": [
      "Wall time: 1 ms\n"
     ]
    }
   ],
   "source": [
    "%%time\n",
    "from gmplot import gmplot\n",
    "import webbrowser, os, json\n",
    "import numpy as np\n",
    "import pandas as pd\n",
    "import seaborn as sns\n",
    "import matplotlib.pyplot as plt\n",
    "import re\n",
    "import random\n",
    "%matplotlib inline\n",
    "import warnings\n",
    "warnings.filterwarnings('ignore')\n",
    "\n",
    "sns.set_style(\"whitegrid\")"
   ]
  },
  {
   "cell_type": "code",
   "execution_count": 31,
   "metadata": {},
   "outputs": [],
   "source": [
    "df = pd.read_csv('./gps1.csv')"
   ]
  },
  {
   "cell_type": "code",
   "execution_count": 32,
   "metadata": {},
   "outputs": [
    {
     "name": "stdout",
     "output_type": "stream",
     "text": [
      "<class 'pandas.core.frame.DataFrame'>\n",
      "RangeIndex: 50000 entries, 0 to 49999\n",
      "Data columns (total 7 columns):\n",
      "vehicle        50000 non-null object\n",
      "datetime       50000 non-null object\n",
      "speed          50000 non-null float64\n",
      "longitude      50000 non-null float64\n",
      "latitude       50000 non-null float64\n",
      "heading        50000 non-null float64\n",
      "vehicleType    50000 non-null int64\n",
      "dtypes: float64(4), int64(1), object(2)\n",
      "memory usage: 2.7+ MB\n"
     ]
    }
   ],
   "source": [
    "df.info()"
   ]
  },
  {
   "cell_type": "code",
   "execution_count": 34,
   "metadata": {},
   "outputs": [
    {
     "data": {
      "text/html": [
       "<div>\n",
       "<style scoped>\n",
       "    .dataframe tbody tr th:only-of-type {\n",
       "        vertical-align: middle;\n",
       "    }\n",
       "\n",
       "    .dataframe tbody tr th {\n",
       "        vertical-align: top;\n",
       "    }\n",
       "\n",
       "    .dataframe thead th {\n",
       "        text-align: right;\n",
       "    }\n",
       "</style>\n",
       "<table border=\"1\" class=\"dataframe\">\n",
       "  <thead>\n",
       "    <tr style=\"text-align: right;\">\n",
       "      <th></th>\n",
       "      <th>speed</th>\n",
       "      <th>longitude</th>\n",
       "      <th>latitude</th>\n",
       "      <th>heading</th>\n",
       "      <th>vehicleType</th>\n",
       "    </tr>\n",
       "  </thead>\n",
       "  <tbody>\n",
       "    <tr>\n",
       "      <th>count</th>\n",
       "      <td>50000.000000</td>\n",
       "      <td>50000.000000</td>\n",
       "      <td>50000.000000</td>\n",
       "      <td>50000.000000</td>\n",
       "      <td>50000.000000</td>\n",
       "    </tr>\n",
       "    <tr>\n",
       "      <th>mean</th>\n",
       "      <td>6.210833</td>\n",
       "      <td>106.684752</td>\n",
       "      <td>10.764112</td>\n",
       "      <td>122.889811</td>\n",
       "      <td>160.030000</td>\n",
       "    </tr>\n",
       "    <tr>\n",
       "      <th>std</th>\n",
       "      <td>10.176225</td>\n",
       "      <td>0.001809</td>\n",
       "      <td>0.006092</td>\n",
       "      <td>126.473069</td>\n",
       "      <td>219.622321</td>\n",
       "    </tr>\n",
       "    <tr>\n",
       "      <th>min</th>\n",
       "      <td>0.000000</td>\n",
       "      <td>106.681670</td>\n",
       "      <td>10.753520</td>\n",
       "      <td>-176.000000</td>\n",
       "      <td>0.000000</td>\n",
       "    </tr>\n",
       "    <tr>\n",
       "      <th>25%</th>\n",
       "      <td>0.000000</td>\n",
       "      <td>106.683220</td>\n",
       "      <td>10.759600</td>\n",
       "      <td>0.000000</td>\n",
       "      <td>0.000000</td>\n",
       "    </tr>\n",
       "    <tr>\n",
       "      <th>50%</th>\n",
       "      <td>0.000000</td>\n",
       "      <td>106.684616</td>\n",
       "      <td>10.763331</td>\n",
       "      <td>126.000000</td>\n",
       "      <td>0.000000</td>\n",
       "    </tr>\n",
       "    <tr>\n",
       "      <th>75%</th>\n",
       "      <td>11.000000</td>\n",
       "      <td>106.686500</td>\n",
       "      <td>10.768530</td>\n",
       "      <td>207.000000</td>\n",
       "      <td>300.000000</td>\n",
       "    </tr>\n",
       "    <tr>\n",
       "      <th>max</th>\n",
       "      <td>62.000000</td>\n",
       "      <td>106.687767</td>\n",
       "      <td>10.775833</td>\n",
       "      <td>12342.000000</td>\n",
       "      <td>900.000000</td>\n",
       "    </tr>\n",
       "  </tbody>\n",
       "</table>\n",
       "</div>"
      ],
      "text/plain": [
       "              speed     longitude      latitude       heading   vehicleType\n",
       "count  50000.000000  50000.000000  50000.000000  50000.000000  50000.000000\n",
       "mean       6.210833    106.684752     10.764112    122.889811    160.030000\n",
       "std       10.176225      0.001809      0.006092    126.473069    219.622321\n",
       "min        0.000000    106.681670     10.753520   -176.000000      0.000000\n",
       "25%        0.000000    106.683220     10.759600      0.000000      0.000000\n",
       "50%        0.000000    106.684616     10.763331    126.000000      0.000000\n",
       "75%       11.000000    106.686500     10.768530    207.000000    300.000000\n",
       "max       62.000000    106.687767     10.775833  12342.000000    900.000000"
      ]
     },
     "execution_count": 34,
     "metadata": {},
     "output_type": "execute_result"
    }
   ],
   "source": [
    "df.describe()"
   ]
  },
  {
   "cell_type": "code",
   "execution_count": 35,
   "metadata": {},
   "outputs": [
    {
     "data": {
      "text/html": [
       "<div>\n",
       "<style scoped>\n",
       "    .dataframe tbody tr th:only-of-type {\n",
       "        vertical-align: middle;\n",
       "    }\n",
       "\n",
       "    .dataframe tbody tr th {\n",
       "        vertical-align: top;\n",
       "    }\n",
       "\n",
       "    .dataframe thead th {\n",
       "        text-align: right;\n",
       "    }\n",
       "</style>\n",
       "<table border=\"1\" class=\"dataframe\">\n",
       "  <thead>\n",
       "    <tr style=\"text-align: right;\">\n",
       "      <th></th>\n",
       "      <th>vehicle</th>\n",
       "      <th>datetime</th>\n",
       "      <th>speed</th>\n",
       "      <th>longitude</th>\n",
       "      <th>latitude</th>\n",
       "      <th>heading</th>\n",
       "      <th>vehicleType</th>\n",
       "    </tr>\n",
       "  </thead>\n",
       "  <tbody>\n",
       "    <tr>\n",
       "      <th>0</th>\n",
       "      <td>51A74766</td>\n",
       "      <td>2019-01-08 15:19:56</td>\n",
       "      <td>9.0</td>\n",
       "      <td>106.681670</td>\n",
       "      <td>10.765310</td>\n",
       "      <td>106.2</td>\n",
       "      <td>0</td>\n",
       "    </tr>\n",
       "    <tr>\n",
       "      <th>1</th>\n",
       "      <td>51A74766</td>\n",
       "      <td>2019-01-08 15:27:13</td>\n",
       "      <td>11.0</td>\n",
       "      <td>106.681670</td>\n",
       "      <td>10.765380</td>\n",
       "      <td>0.0</td>\n",
       "      <td>300</td>\n",
       "    </tr>\n",
       "    <tr>\n",
       "      <th>2</th>\n",
       "      <td>51A07937</td>\n",
       "      <td>2019-01-08 15:27:55</td>\n",
       "      <td>0.0</td>\n",
       "      <td>106.681670</td>\n",
       "      <td>10.766630</td>\n",
       "      <td>328.0</td>\n",
       "      <td>0</td>\n",
       "    </tr>\n",
       "    <tr>\n",
       "      <th>3</th>\n",
       "      <td>51A07937</td>\n",
       "      <td>2019-01-08 15:32:54</td>\n",
       "      <td>6.0</td>\n",
       "      <td>106.681670</td>\n",
       "      <td>10.774990</td>\n",
       "      <td>50.0</td>\n",
       "      <td>0</td>\n",
       "    </tr>\n",
       "    <tr>\n",
       "      <th>4</th>\n",
       "      <td>51A07937</td>\n",
       "      <td>2019-01-08 16:07:29</td>\n",
       "      <td>17.0</td>\n",
       "      <td>106.681671</td>\n",
       "      <td>10.760513</td>\n",
       "      <td>254.0</td>\n",
       "      <td>200</td>\n",
       "    </tr>\n",
       "    <tr>\n",
       "      <th>5</th>\n",
       "      <td>51A07937</td>\n",
       "      <td>2019-01-08 16:12:30</td>\n",
       "      <td>5.0</td>\n",
       "      <td>106.681671</td>\n",
       "      <td>10.765172</td>\n",
       "      <td>-1.0</td>\n",
       "      <td>300</td>\n",
       "    </tr>\n",
       "    <tr>\n",
       "      <th>6</th>\n",
       "      <td>51A74766</td>\n",
       "      <td>2019-01-08 16:24:19</td>\n",
       "      <td>7.0</td>\n",
       "      <td>106.681671</td>\n",
       "      <td>10.765260</td>\n",
       "      <td>72.0</td>\n",
       "      <td>300</td>\n",
       "    </tr>\n",
       "    <tr>\n",
       "      <th>7</th>\n",
       "      <td>51B25820</td>\n",
       "      <td>2019-01-08 22:40:09</td>\n",
       "      <td>6.0</td>\n",
       "      <td>106.681671</td>\n",
       "      <td>10.765558</td>\n",
       "      <td>272.0</td>\n",
       "      <td>0</td>\n",
       "    </tr>\n",
       "    <tr>\n",
       "      <th>8</th>\n",
       "      <td>51B25820</td>\n",
       "      <td>2019-01-08 22:45:09</td>\n",
       "      <td>10.0</td>\n",
       "      <td>106.681671</td>\n",
       "      <td>10.765632</td>\n",
       "      <td>284.0</td>\n",
       "      <td>0</td>\n",
       "    </tr>\n",
       "    <tr>\n",
       "      <th>9</th>\n",
       "      <td>51A07937</td>\n",
       "      <td>2019-01-08 16:27:29</td>\n",
       "      <td>0.0</td>\n",
       "      <td>106.681671</td>\n",
       "      <td>10.766555</td>\n",
       "      <td>312.0</td>\n",
       "      <td>0</td>\n",
       "    </tr>\n",
       "  </tbody>\n",
       "</table>\n",
       "</div>"
      ],
      "text/plain": [
       "    vehicle             datetime  speed   longitude   latitude  heading  \\\n",
       "0  51A74766  2019-01-08 15:19:56    9.0  106.681670  10.765310    106.2   \n",
       "1  51A74766  2019-01-08 15:27:13   11.0  106.681670  10.765380      0.0   \n",
       "2  51A07937  2019-01-08 15:27:55    0.0  106.681670  10.766630    328.0   \n",
       "3  51A07937  2019-01-08 15:32:54    6.0  106.681670  10.774990     50.0   \n",
       "4  51A07937  2019-01-08 16:07:29   17.0  106.681671  10.760513    254.0   \n",
       "5  51A07937  2019-01-08 16:12:30    5.0  106.681671  10.765172     -1.0   \n",
       "6  51A74766  2019-01-08 16:24:19    7.0  106.681671  10.765260     72.0   \n",
       "7  51B25820  2019-01-08 22:40:09    6.0  106.681671  10.765558    272.0   \n",
       "8  51B25820  2019-01-08 22:45:09   10.0  106.681671  10.765632    284.0   \n",
       "9  51A07937  2019-01-08 16:27:29    0.0  106.681671  10.766555    312.0   \n",
       "\n",
       "   vehicleType  \n",
       "0            0  \n",
       "1          300  \n",
       "2            0  \n",
       "3            0  \n",
       "4          200  \n",
       "5          300  \n",
       "6          300  \n",
       "7            0  \n",
       "8            0  \n",
       "9            0  "
      ]
     },
     "execution_count": 35,
     "metadata": {},
     "output_type": "execute_result"
    }
   ],
   "source": [
    "df.head(10)"
   ]
  },
  {
   "cell_type": "code",
   "execution_count": 36,
   "metadata": {},
   "outputs": [],
   "source": [
    "coords = df[['latitude', 'longitude']].to_numpy()\n",
    "# coords = coords[:5000]"
   ]
  },
  {
   "cell_type": "code",
   "execution_count": 37,
   "metadata": {},
   "outputs": [],
   "source": [
    "# Place map\n",
    "gmap = gmplot.GoogleMapPlotter(coords[0][0], coords[0][1], 15)\n",
    "\n",
    "# Scatter points\n",
    "lats, lons = zip(*coords)\n",
    "color = \"#{:06x}\".format(random.randint(0, 0xFFFFFF))\n",
    "# '#95ed64'\n",
    "gmap.scatter(lats, lons, color , size=5, marker=False)\n",
    "# gmap.plot(lats, lons, color, edge_width=2)\n",
    "    \n",
    "\n",
    "# # Marker\n",
    "# hidden_gem_lat, hidden_gem_lon = 37.770776, -122.461689\n",
    "# gmap.marker(hidden_gem_lat, hidden_gem_lon, 'cornflowerblue')\n",
    "\n",
    "# Draw\n",
    "gmap.draw(\"my_map.html\")"
   ]
  },
  {
   "cell_type": "code",
   "execution_count": 13,
   "metadata": {},
   "outputs": [],
   "source": [
    "SPLIT_TIME = 3 #minute\n",
    "def split_trip(coords):\n",
    "    l = [[[coords[0][0],coords[0][1]]]]\n",
    "    for i in range(1,len(coords)):\n",
    "        c = coords[i]\n",
    "        if c[2] > SPLIT_TIME:\n",
    "            l.append([[c[0], c[1]]])\n",
    "        else: \n",
    "            l[len(l)-1].append([c[0], c[1]])\n",
    "#     print(l)\n",
    "    return l"
   ]
  },
  {
   "cell_type": "markdown",
   "metadata": {},
   "source": [
    "### Show map of each trip"
   ]
  },
  {
   "cell_type": "code",
   "execution_count": 4,
   "metadata": {
    "collapsed": true,
    "jupyter": {
     "outputs_hidden": true
    }
   },
   "outputs": [
    {
     "ename": "NameError",
     "evalue": "name 'coords' is not defined",
     "output_type": "error",
     "traceback": [
      "\u001b[1;31m---------------------------------------------------------------------------\u001b[0m",
      "\u001b[1;31mNameError\u001b[0m                                 Traceback (most recent call last)",
      "\u001b[1;32m<ipython-input-4-51c8fa0c24c3>\u001b[0m in \u001b[0;36m<module>\u001b[1;34m\u001b[0m\n\u001b[0;32m      1\u001b[0m \u001b[1;31m# Place map\u001b[0m\u001b[1;33m\u001b[0m\u001b[1;33m\u001b[0m\u001b[1;33m\u001b[0m\u001b[0m\n\u001b[1;32m----> 2\u001b[1;33m \u001b[0mgmap\u001b[0m \u001b[1;33m=\u001b[0m \u001b[0mgmplot\u001b[0m\u001b[1;33m.\u001b[0m\u001b[0mGoogleMapPlotter\u001b[0m\u001b[1;33m(\u001b[0m\u001b[0mcoords\u001b[0m\u001b[1;33m[\u001b[0m\u001b[1;36m0\u001b[0m\u001b[1;33m]\u001b[0m\u001b[1;33m[\u001b[0m\u001b[1;36m0\u001b[0m\u001b[1;33m]\u001b[0m\u001b[1;33m,\u001b[0m \u001b[0mcoords\u001b[0m\u001b[1;33m[\u001b[0m\u001b[1;36m0\u001b[0m\u001b[1;33m]\u001b[0m\u001b[1;33m[\u001b[0m\u001b[1;36m1\u001b[0m\u001b[1;33m]\u001b[0m\u001b[1;33m,\u001b[0m \u001b[1;36m15\u001b[0m\u001b[1;33m)\u001b[0m\u001b[1;33m\u001b[0m\u001b[1;33m\u001b[0m\u001b[0m\n\u001b[0m\u001b[0;32m      3\u001b[0m \u001b[1;33m\u001b[0m\u001b[0m\n\u001b[0;32m      4\u001b[0m \u001b[1;31m# Scatter points\u001b[0m\u001b[1;33m\u001b[0m\u001b[1;33m\u001b[0m\u001b[1;33m\u001b[0m\u001b[0m\n\u001b[0;32m      5\u001b[0m \u001b[1;32mfor\u001b[0m \u001b[0mtrip\u001b[0m \u001b[1;32min\u001b[0m \u001b[0mtrips\u001b[0m\u001b[1;33m:\u001b[0m\u001b[1;33m\u001b[0m\u001b[1;33m\u001b[0m\u001b[0m\n",
      "\u001b[1;31mNameError\u001b[0m: name 'coords' is not defined"
     ]
    }
   ],
   "source": [
    "# Place map\n",
    "gmap = gmplot.GoogleMapPlotter(coords[0][0], coords[0][1], 15)\n",
    "\n",
    "# Scatter points\n",
    "for trip in trips:\n",
    "    lats, lons = zip(*trip)\n",
    "    color = \"#{:06x}\".format(random.randint(0, 0xFFFFFF))\n",
    "# '#95ed64'\n",
    "    gmap.scatter(lats, lons, color , size=5, marker=False)\n",
    "    gmap.plot(lats, lons, color, edge_width=2)\n",
    "    \n",
    "\n",
    "# # Marker\n",
    "# hidden_gem_lat, hidden_gem_lon = 37.770776, -122.461689\n",
    "# gmap.marker(hidden_gem_lat, hidden_gem_lon, 'cornflowerblue')\n",
    "\n",
    "# Draw\n",
    "gmap.draw(\"my_map.html\")"
   ]
  },
  {
   "cell_type": "markdown",
   "metadata": {},
   "source": [
    "## Open map new tab"
   ]
  },
  {
   "cell_type": "code",
   "execution_count": 38,
   "metadata": {},
   "outputs": [
    {
     "data": {
      "text/plain": [
       "True"
      ]
     },
     "execution_count": 38,
     "metadata": {},
     "output_type": "execute_result"
    }
   ],
   "source": [
    "filename = 'file:///'+os.getcwd()+'/' + 'my_map.html'\n",
    "webbrowser.open_new_tab('./my_map.html')"
   ]
  }
 ],
 "metadata": {
  "kernelspec": {
   "display_name": "Python 3",
   "language": "python",
   "name": "python3"
  },
  "language_info": {
   "codemirror_mode": {
    "name": "ipython",
    "version": 3
   },
   "file_extension": ".py",
   "mimetype": "text/x-python",
   "name": "python",
   "nbconvert_exporter": "python",
   "pygments_lexer": "ipython3",
   "version": "3.7.3"
  }
 },
 "nbformat": 4,
 "nbformat_minor": 4
}
