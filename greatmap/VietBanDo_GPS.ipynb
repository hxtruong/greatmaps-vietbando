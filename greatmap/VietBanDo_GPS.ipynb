{
  "nbformat": 4,
  "nbformat_minor": 0,
  "metadata": {
    "colab": {
      "name": "VietBanDo-GPS",
      "provenance": [],
      "collapsed_sections": [],
      "include_colab_link": true
    },
    "kernelspec": {
      "name": "python3",
      "display_name": "Python 3"
    }
  },
  "cells": [
    {
      "cell_type": "markdown",
      "metadata": {
        "id": "view-in-github",
        "colab_type": "text"
      },
      "source": [
        "<a href=\"https://colab.research.google.com/github/hxtruong/greatmaps-vietbando/blob/master/VietBanDo_GPS.ipynb\" target=\"_parent\"><img src=\"https://colab.research.google.com/assets/colab-badge.svg\" alt=\"Open In Colab\"/></a>"
      ]
    },
    {
      "cell_type": "markdown",
      "metadata": {
        "id": "864rNRtevEgk",
        "colab_type": "text"
      },
      "source": [
        "### Import library"
      ]
    },
    {
      "cell_type": "code",
      "metadata": {
        "id": "S7zWOXuuteDi",
        "colab_type": "code",
        "colab": {}
      },
      "source": [
        "import numpy as np\n",
        "import pandas as pd\n",
        "import seaborn as sns\n",
        "import matplotlib.pyplot as plt\n",
        "import re\n",
        "%matplotlib inline\n",
        "import warnings\n",
        "warnings.filterwarnings('ignore')\n",
        "\n",
        "sns.set_style(\"whitegrid\")"
      ],
      "execution_count": 0,
      "outputs": []
    },
    {
      "cell_type": "markdown",
      "metadata": {
        "id": "gUtGOyEevLp9",
        "colab_type": "text"
      },
      "source": [
        "### Read data"
      ]
    },
    {
      "cell_type": "code",
      "metadata": {
        "id": "XSx3ui54vO8s",
        "colab_type": "code",
        "colab": {}
      },
      "source": [
        "link = \"https://raw.githubusercontent.com/hxtruong/dataset/master/vietbando/WayPointDemo.csv\"\n",
        "# Note: set param encoding = 'latin1'\n",
        "df = pd.read_csv(link,encoding='latin1')"
      ],
      "execution_count": 0,
      "outputs": []
    },
    {
      "cell_type": "code",
      "metadata": {
        "id": "zVZnlPiCveT5",
        "colab_type": "code",
        "colab": {
          "base_uri": "https://localhost:8080/",
          "height": 247
        },
        "outputId": "590a9efc-2ecb-421b-e349-1e89e4255aa6"
      },
      "source": [
        "df.info()"
      ],
      "execution_count": 3,
      "outputs": [
        {
          "output_type": "stream",
          "text": [
            "<class 'pandas.core.frame.DataFrame'>\n",
            "RangeIndex: 599975 entries, 0 to 599974\n",
            "Data columns (total 8 columns):\n",
            "eventdate      599975 non-null object\n",
            "vehicle        599975 non-null object\n",
            "datetime       599975 non-null object\n",
            "speed          599975 non-null float64\n",
            "longitude      599975 non-null float64\n",
            "latitude       599975 non-null float64\n",
            "heading        599975 non-null float64\n",
            "vehicleType    599975 non-null int64\n",
            "dtypes: float64(4), int64(1), object(3)\n",
            "memory usage: 36.6+ MB\n"
          ],
          "name": "stdout"
        }
      ]
    },
    {
      "cell_type": "code",
      "metadata": {
        "id": "UjckckYnvgow",
        "colab_type": "code",
        "colab": {
          "base_uri": "https://localhost:8080/",
          "height": 287
        },
        "outputId": "e2288766-5401-437e-f51a-55639cde5d9e"
      },
      "source": [
        "df.describe()"
      ],
      "execution_count": 5,
      "outputs": [
        {
          "output_type": "execute_result",
          "data": {
            "text/html": [
              "<div>\n",
              "<style scoped>\n",
              "    .dataframe tbody tr th:only-of-type {\n",
              "        vertical-align: middle;\n",
              "    }\n",
              "\n",
              "    .dataframe tbody tr th {\n",
              "        vertical-align: top;\n",
              "    }\n",
              "\n",
              "    .dataframe thead th {\n",
              "        text-align: right;\n",
              "    }\n",
              "</style>\n",
              "<table border=\"1\" class=\"dataframe\">\n",
              "  <thead>\n",
              "    <tr style=\"text-align: right;\">\n",
              "      <th></th>\n",
              "      <th>speed</th>\n",
              "      <th>longitude</th>\n",
              "      <th>latitude</th>\n",
              "      <th>heading</th>\n",
              "      <th>vehicleType</th>\n",
              "    </tr>\n",
              "  </thead>\n",
              "  <tbody>\n",
              "    <tr>\n",
              "      <th>count</th>\n",
              "      <td>599975.000000</td>\n",
              "      <td>599975.000000</td>\n",
              "      <td>599975.000000</td>\n",
              "      <td>599975.000000</td>\n",
              "      <td>599975.000000</td>\n",
              "    </tr>\n",
              "    <tr>\n",
              "      <th>mean</th>\n",
              "      <td>6.023258</td>\n",
              "      <td>106.696958</td>\n",
              "      <td>10.775069</td>\n",
              "      <td>115.869299</td>\n",
              "      <td>156.182174</td>\n",
              "    </tr>\n",
              "    <tr>\n",
              "      <th>std</th>\n",
              "      <td>10.729775</td>\n",
              "      <td>0.008335</td>\n",
              "      <td>0.011836</td>\n",
              "      <td>113.598963</td>\n",
              "      <td>215.934555</td>\n",
              "    </tr>\n",
              "    <tr>\n",
              "      <th>min</th>\n",
              "      <td>0.000000</td>\n",
              "      <td>106.681669</td>\n",
              "      <td>10.753519</td>\n",
              "      <td>-179.000000</td>\n",
              "      <td>0.000000</td>\n",
              "    </tr>\n",
              "    <tr>\n",
              "      <th>25%</th>\n",
              "      <td>0.000000</td>\n",
              "      <td>106.690150</td>\n",
              "      <td>10.764940</td>\n",
              "      <td>0.000000</td>\n",
              "      <td>0.000000</td>\n",
              "    </tr>\n",
              "    <tr>\n",
              "      <th>50%</th>\n",
              "      <td>0.000000</td>\n",
              "      <td>106.697190</td>\n",
              "      <td>10.775834</td>\n",
              "      <td>108.000000</td>\n",
              "      <td>0.000000</td>\n",
              "    </tr>\n",
              "    <tr>\n",
              "      <th>75%</th>\n",
              "      <td>9.000000</td>\n",
              "      <td>106.703350</td>\n",
              "      <td>10.784412</td>\n",
              "      <td>187.050000</td>\n",
              "      <td>300.000000</td>\n",
              "    </tr>\n",
              "    <tr>\n",
              "      <th>max</th>\n",
              "      <td>132.000000</td>\n",
              "      <td>106.715053</td>\n",
              "      <td>10.796934</td>\n",
              "      <td>12342.000000</td>\n",
              "      <td>900.000000</td>\n",
              "    </tr>\n",
              "  </tbody>\n",
              "</table>\n",
              "</div>"
            ],
            "text/plain": [
              "               speed      longitude  ...        heading    vehicleType\n",
              "count  599975.000000  599975.000000  ...  599975.000000  599975.000000\n",
              "mean        6.023258     106.696958  ...     115.869299     156.182174\n",
              "std        10.729775       0.008335  ...     113.598963     215.934555\n",
              "min         0.000000     106.681669  ...    -179.000000       0.000000\n",
              "25%         0.000000     106.690150  ...       0.000000       0.000000\n",
              "50%         0.000000     106.697190  ...     108.000000       0.000000\n",
              "75%         9.000000     106.703350  ...     187.050000     300.000000\n",
              "max       132.000000     106.715053  ...   12342.000000     900.000000\n",
              "\n",
              "[8 rows x 5 columns]"
            ]
          },
          "metadata": {
            "tags": []
          },
          "execution_count": 5
        }
      ]
    },
    {
      "cell_type": "code",
      "metadata": {
        "id": "O2nsS1WYv0jf",
        "colab_type": "code",
        "colab": {
          "base_uri": "https://localhost:8080/",
          "height": 301
        },
        "outputId": "a33c1101-78b0-4fd5-ac12-e2ba7d0026b1"
      },
      "source": [
        "df.sample(5)"
      ],
      "execution_count": 8,
      "outputs": [
        {
          "output_type": "execute_result",
          "data": {
            "text/html": [
              "<div>\n",
              "<style scoped>\n",
              "    .dataframe tbody tr th:only-of-type {\n",
              "        vertical-align: middle;\n",
              "    }\n",
              "\n",
              "    .dataframe tbody tr th {\n",
              "        vertical-align: top;\n",
              "    }\n",
              "\n",
              "    .dataframe thead th {\n",
              "        text-align: right;\n",
              "    }\n",
              "</style>\n",
              "<table border=\"1\" class=\"dataframe\">\n",
              "  <thead>\n",
              "    <tr style=\"text-align: right;\">\n",
              "      <th></th>\n",
              "      <th>eventdate</th>\n",
              "      <th>vehicle</th>\n",
              "      <th>datetime</th>\n",
              "      <th>speed</th>\n",
              "      <th>longitude</th>\n",
              "      <th>latitude</th>\n",
              "      <th>heading</th>\n",
              "      <th>vehicleType</th>\n",
              "    </tr>\n",
              "  </thead>\n",
              "  <tbody>\n",
              "    <tr>\n",
              "      <th>562517</th>\n",
              "      <td>01/08/2019</td>\n",
              "      <td>64A05957</td>\n",
              "      <td>01/08/2019 13:56:14</td>\n",
              "      <td>0.0</td>\n",
              "      <td>106.706940</td>\n",
              "      <td>10.778397</td>\n",
              "      <td>126.0</td>\n",
              "      <td>300</td>\n",
              "    </tr>\n",
              "    <tr>\n",
              "      <th>569330</th>\n",
              "      <td>01/08/2019</td>\n",
              "      <td>67C04703</td>\n",
              "      <td>01/08/2019 1:19:12</td>\n",
              "      <td>0.0</td>\n",
              "      <td>106.690125</td>\n",
              "      <td>10.784047</td>\n",
              "      <td>0.0</td>\n",
              "      <td>0</td>\n",
              "    </tr>\n",
              "    <tr>\n",
              "      <th>226874</th>\n",
              "      <td>01/08/2019</td>\n",
              "      <td>51F51324</td>\n",
              "      <td>01/08/2019 16:08:40</td>\n",
              "      <td>0.0</td>\n",
              "      <td>106.702164</td>\n",
              "      <td>10.784097</td>\n",
              "      <td>0.0</td>\n",
              "      <td>300</td>\n",
              "    </tr>\n",
              "    <tr>\n",
              "      <th>378316</th>\n",
              "      <td>01/08/2019</td>\n",
              "      <td>51G49095</td>\n",
              "      <td>01/08/2019 10:38:44</td>\n",
              "      <td>0.0</td>\n",
              "      <td>106.686852</td>\n",
              "      <td>10.770980</td>\n",
              "      <td>273.0</td>\n",
              "      <td>0</td>\n",
              "    </tr>\n",
              "    <tr>\n",
              "      <th>316880</th>\n",
              "      <td>01/08/2019</td>\n",
              "      <td>51G15053</td>\n",
              "      <td>01/08/2019 19:40:51</td>\n",
              "      <td>0.0</td>\n",
              "      <td>106.708496</td>\n",
              "      <td>10.796265</td>\n",
              "      <td>0.0</td>\n",
              "      <td>300</td>\n",
              "    </tr>\n",
              "  </tbody>\n",
              "</table>\n",
              "</div>"
            ],
            "text/plain": [
              "         eventdate   vehicle  ... heading  vehicleType\n",
              "562517  01/08/2019  64A05957  ...   126.0          300\n",
              "569330  01/08/2019  67C04703  ...     0.0            0\n",
              "226874  01/08/2019  51F51324  ...     0.0          300\n",
              "378316  01/08/2019  51G49095  ...   273.0            0\n",
              "316880  01/08/2019  51G15053  ...     0.0          300\n",
              "\n",
              "[5 rows x 8 columns]"
            ]
          },
          "metadata": {
            "tags": []
          },
          "execution_count": 8
        }
      ]
    },
    {
      "cell_type": "markdown",
      "metadata": {
        "id": "LHSLsWwjuwtZ",
        "colab_type": "text"
      },
      "source": [
        "# Preprocessing"
      ]
    },
    {
      "cell_type": "markdown",
      "metadata": {
        "id": "ec0ACibdu4Hu",
        "colab_type": "text"
      },
      "source": [
        "## Filter data"
      ]
    },
    {
      "cell_type": "code",
      "metadata": {
        "id": "ysW_IxYvuvwF",
        "colab_type": "code",
        "colab": {}
      },
      "source": [
        ""
      ],
      "execution_count": 0,
      "outputs": []
    }
  ]
}