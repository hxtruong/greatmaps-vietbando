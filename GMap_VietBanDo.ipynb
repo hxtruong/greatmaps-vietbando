{
  "nbformat": 4,
  "nbformat_minor": 0,
  "metadata": {
    "colab": {
      "name": "GMap-VietBanDo",
      "version": "0.3.2",
      "provenance": [],
      "collapsed_sections": [],
      "include_colab_link": true
    },
    "kernelspec": {
      "name": "python3",
      "display_name": "Python 3"
    }
  },
  "cells": [
    {
      "cell_type": "markdown",
      "metadata": {
        "id": "view-in-github",
        "colab_type": "text"
      },
      "source": [
        "<a href=\"https://colab.research.google.com/github/hxtruong/greatmaps-vietbando/blob/master/GMap_VietBanDo.ipynb\" target=\"_parent\"><img src=\"https://colab.research.google.com/assets/colab-badge.svg\" alt=\"Open In Colab\"/></a>"
      ]
    },
    {
      "cell_type": "code",
      "metadata": {
        "id": "PIsYcFy-Ta99",
        "colab_type": "code",
        "outputId": "23ef4328-1613-4eeb-e0c7-f9967c06f2e7",
        "colab": {
          "base_uri": "https://localhost:8080/",
          "height": 122
        }
      },
      "source": [
        "from google.colab import auth\n",
        "auth.authenticate_user()\n",
        "from google.colab import drive\n",
        "drive.mount('/content/gdrive', force_remount=True)"
      ],
      "execution_count": 3,
      "outputs": [
        {
          "output_type": "stream",
          "text": [
            "Go to this URL in a browser: https://accounts.google.com/o/oauth2/auth?client_id=947318989803-6bn6qk8qdgf4n4g3pfee6491hc0brc4i.apps.googleusercontent.com&redirect_uri=urn%3Aietf%3Awg%3Aoauth%3A2.0%3Aoob&scope=email%20https%3A%2F%2Fwww.googleapis.com%2Fauth%2Fdocs.test%20https%3A%2F%2Fwww.googleapis.com%2Fauth%2Fdrive%20https%3A%2F%2Fwww.googleapis.com%2Fauth%2Fdrive.photos.readonly%20https%3A%2F%2Fwww.googleapis.com%2Fauth%2Fpeopleapi.readonly&response_type=code\n",
            "\n",
            "Enter your authorization code:\n",
            "··········\n",
            "Mounted at /content/gdrive\n"
          ],
          "name": "stdout"
        }
      ]
    },
    {
      "cell_type": "code",
      "metadata": {
        "id": "ozqK8FFqU7iD",
        "colab_type": "code",
        "colab": {}
      },
      "source": [
        "import numpy as np\n",
        "import pandas as pd\n",
        "import seaborn as sns\n",
        "import matplotlib.pyplot as plt\n",
        "import re\n",
        "%matplotlib inline\n",
        "import warnings\n",
        "warnings.filterwarnings('ignore')\n",
        "\n",
        "sns.set_style(\"whitegrid\")"
      ],
      "execution_count": 0,
      "outputs": []
    },
    {
      "cell_type": "code",
      "metadata": {
        "id": "MLUgm1bUVQhK",
        "colab_type": "code",
        "colab": {}
      },
      "source": [
        "# !cd gdrive/My\\ Drive/VietBanDo\n",
        "# !pwd"
      ],
      "execution_count": 0,
      "outputs": []
    },
    {
      "cell_type": "code",
      "metadata": {
        "id": "Mi1kWlICVLFC",
        "colab_type": "code",
        "colab": {}
      },
      "source": [
        "link = \"/content/gdrive/My Drive/VietBanDo/WayPoint_20190801_201908020946.csv\"\n",
        "# Note: set param encoding = 'latin1'\n",
        "logs = pd.read_csv(link,encoding='latin1')"
      ],
      "execution_count": 0,
      "outputs": []
    },
    {
      "cell_type": "code",
      "metadata": {
        "id": "YEWhCnK0XCao",
        "colab_type": "code",
        "outputId": "10ed9c65-9d98-4e93-c76e-1e5dc50f7fb4",
        "colab": {
          "base_uri": "https://localhost:8080/",
          "height": 238
        }
      },
      "source": [
        "logs.info()"
      ],
      "execution_count": 7,
      "outputs": [
        {
          "output_type": "stream",
          "text": [
            "<class 'pandas.core.frame.DataFrame'>\n",
            "RangeIndex: 599975 entries, 0 to 599974\n",
            "Data columns (total 8 columns):\n",
            "eventdate      599975 non-null object\n",
            "vehicle        599975 non-null object\n",
            "datetime       599975 non-null object\n",
            "speed          599975 non-null float64\n",
            "longitude      599975 non-null float64\n",
            "latitude       599975 non-null float64\n",
            "heading        599975 non-null float64\n",
            "vehicleType    599975 non-null int64\n",
            "dtypes: float64(4), int64(1), object(3)\n",
            "memory usage: 36.6+ MB\n"
          ],
          "name": "stdout"
        }
      ]
    },
    {
      "cell_type": "code",
      "metadata": {
        "id": "2pkA7P1mXHMB",
        "colab_type": "code",
        "outputId": "1430ba8a-8ab6-4892-b37c-591ad16fbcb3",
        "colab": {
          "base_uri": "https://localhost:8080/",
          "height": 297
        }
      },
      "source": [
        "logs.describe()"
      ],
      "execution_count": 8,
      "outputs": [
        {
          "output_type": "execute_result",
          "data": {
            "text/html": [
              "<div>\n",
              "<style scoped>\n",
              "    .dataframe tbody tr th:only-of-type {\n",
              "        vertical-align: middle;\n",
              "    }\n",
              "\n",
              "    .dataframe tbody tr th {\n",
              "        vertical-align: top;\n",
              "    }\n",
              "\n",
              "    .dataframe thead th {\n",
              "        text-align: right;\n",
              "    }\n",
              "</style>\n",
              "<table border=\"1\" class=\"dataframe\">\n",
              "  <thead>\n",
              "    <tr style=\"text-align: right;\">\n",
              "      <th></th>\n",
              "      <th>speed</th>\n",
              "      <th>longitude</th>\n",
              "      <th>latitude</th>\n",
              "      <th>heading</th>\n",
              "      <th>vehicleType</th>\n",
              "    </tr>\n",
              "  </thead>\n",
              "  <tbody>\n",
              "    <tr>\n",
              "      <th>count</th>\n",
              "      <td>599975.000000</td>\n",
              "      <td>599975.000000</td>\n",
              "      <td>599975.000000</td>\n",
              "      <td>599975.000000</td>\n",
              "      <td>599975.000000</td>\n",
              "    </tr>\n",
              "    <tr>\n",
              "      <th>mean</th>\n",
              "      <td>6.023258</td>\n",
              "      <td>106.696958</td>\n",
              "      <td>10.775069</td>\n",
              "      <td>115.869299</td>\n",
              "      <td>156.182174</td>\n",
              "    </tr>\n",
              "    <tr>\n",
              "      <th>std</th>\n",
              "      <td>10.729775</td>\n",
              "      <td>0.008335</td>\n",
              "      <td>0.011836</td>\n",
              "      <td>113.598963</td>\n",
              "      <td>215.934555</td>\n",
              "    </tr>\n",
              "    <tr>\n",
              "      <th>min</th>\n",
              "      <td>0.000000</td>\n",
              "      <td>106.681669</td>\n",
              "      <td>10.753519</td>\n",
              "      <td>-179.000000</td>\n",
              "      <td>0.000000</td>\n",
              "    </tr>\n",
              "    <tr>\n",
              "      <th>25%</th>\n",
              "      <td>0.000000</td>\n",
              "      <td>106.690150</td>\n",
              "      <td>10.764940</td>\n",
              "      <td>0.000000</td>\n",
              "      <td>0.000000</td>\n",
              "    </tr>\n",
              "    <tr>\n",
              "      <th>50%</th>\n",
              "      <td>0.000000</td>\n",
              "      <td>106.697190</td>\n",
              "      <td>10.775834</td>\n",
              "      <td>108.000000</td>\n",
              "      <td>0.000000</td>\n",
              "    </tr>\n",
              "    <tr>\n",
              "      <th>75%</th>\n",
              "      <td>9.000000</td>\n",
              "      <td>106.703350</td>\n",
              "      <td>10.784412</td>\n",
              "      <td>187.050000</td>\n",
              "      <td>300.000000</td>\n",
              "    </tr>\n",
              "    <tr>\n",
              "      <th>max</th>\n",
              "      <td>132.000000</td>\n",
              "      <td>106.715053</td>\n",
              "      <td>10.796934</td>\n",
              "      <td>12342.000000</td>\n",
              "      <td>900.000000</td>\n",
              "    </tr>\n",
              "  </tbody>\n",
              "</table>\n",
              "</div>"
            ],
            "text/plain": [
              "               speed      longitude  ...        heading    vehicleType\n",
              "count  599975.000000  599975.000000  ...  599975.000000  599975.000000\n",
              "mean        6.023258     106.696958  ...     115.869299     156.182174\n",
              "std        10.729775       0.008335  ...     113.598963     215.934555\n",
              "min         0.000000     106.681669  ...    -179.000000       0.000000\n",
              "25%         0.000000     106.690150  ...       0.000000       0.000000\n",
              "50%         0.000000     106.697190  ...     108.000000       0.000000\n",
              "75%         9.000000     106.703350  ...     187.050000     300.000000\n",
              "max       132.000000     106.715053  ...   12342.000000     900.000000\n",
              "\n",
              "[8 rows x 5 columns]"
            ]
          },
          "metadata": {
            "tags": []
          },
          "execution_count": 8
        }
      ]
    },
    {
      "cell_type": "code",
      "metadata": {
        "id": "z3WGodKRXcTS",
        "colab_type": "code",
        "outputId": "0d2aba7e-5b08-4524-908f-4b5a87be1e97",
        "colab": {
          "base_uri": "https://localhost:8080/",
          "height": 204
        }
      },
      "source": [
        "logs.head(5)"
      ],
      "execution_count": 9,
      "outputs": [
        {
          "output_type": "execute_result",
          "data": {
            "text/html": [
              "<div>\n",
              "<style scoped>\n",
              "    .dataframe tbody tr th:only-of-type {\n",
              "        vertical-align: middle;\n",
              "    }\n",
              "\n",
              "    .dataframe tbody tr th {\n",
              "        vertical-align: top;\n",
              "    }\n",
              "\n",
              "    .dataframe thead th {\n",
              "        text-align: right;\n",
              "    }\n",
              "</style>\n",
              "<table border=\"1\" class=\"dataframe\">\n",
              "  <thead>\n",
              "    <tr style=\"text-align: right;\">\n",
              "      <th></th>\n",
              "      <th>eventdate</th>\n",
              "      <th>vehicle</th>\n",
              "      <th>datetime</th>\n",
              "      <th>speed</th>\n",
              "      <th>longitude</th>\n",
              "      <th>latitude</th>\n",
              "      <th>heading</th>\n",
              "      <th>vehicleType</th>\n",
              "    </tr>\n",
              "  </thead>\n",
              "  <tbody>\n",
              "    <tr>\n",
              "      <th>0</th>\n",
              "      <td>01/08/2019</td>\n",
              "      <td>5.10E+25</td>\n",
              "      <td>01/08/2019 7:41:40</td>\n",
              "      <td>13.0</td>\n",
              "      <td>106.681671</td>\n",
              "      <td>10.777759</td>\n",
              "      <td>98.0</td>\n",
              "      <td>0</td>\n",
              "    </tr>\n",
              "    <tr>\n",
              "      <th>1</th>\n",
              "      <td>01/08/2019</td>\n",
              "      <td>5.10E+25</td>\n",
              "      <td>01/08/2019 7:58:40</td>\n",
              "      <td>33.0</td>\n",
              "      <td>106.681671</td>\n",
              "      <td>10.755480</td>\n",
              "      <td>0.0</td>\n",
              "      <td>700</td>\n",
              "    </tr>\n",
              "    <tr>\n",
              "      <th>2</th>\n",
              "      <td>01/08/2019</td>\n",
              "      <td>5.10E+25</td>\n",
              "      <td>01/08/2019 8:04:10</td>\n",
              "      <td>11.0</td>\n",
              "      <td>106.681671</td>\n",
              "      <td>10.765283</td>\n",
              "      <td>180.0</td>\n",
              "      <td>300</td>\n",
              "    </tr>\n",
              "    <tr>\n",
              "      <th>3</th>\n",
              "      <td>01/08/2019</td>\n",
              "      <td>5.10E+25</td>\n",
              "      <td>01/08/2019 8:13:10</td>\n",
              "      <td>27.0</td>\n",
              "      <td>106.681671</td>\n",
              "      <td>10.790426</td>\n",
              "      <td>0.0</td>\n",
              "      <td>0</td>\n",
              "    </tr>\n",
              "    <tr>\n",
              "      <th>4</th>\n",
              "      <td>01/08/2019</td>\n",
              "      <td>5.10E+25</td>\n",
              "      <td>01/08/2019 8:19:10</td>\n",
              "      <td>21.0</td>\n",
              "      <td>106.681671</td>\n",
              "      <td>10.796104</td>\n",
              "      <td>0.0</td>\n",
              "      <td>0</td>\n",
              "    </tr>\n",
              "  </tbody>\n",
              "</table>\n",
              "</div>"
            ],
            "text/plain": [
              "    eventdate   vehicle            datetime  ...   latitude  heading  vehicleType\n",
              "0  01/08/2019  5.10E+25  01/08/2019 7:41:40  ...  10.777759     98.0            0\n",
              "1  01/08/2019  5.10E+25  01/08/2019 7:58:40  ...  10.755480      0.0          700\n",
              "2  01/08/2019  5.10E+25  01/08/2019 8:04:10  ...  10.765283    180.0          300\n",
              "3  01/08/2019  5.10E+25  01/08/2019 8:13:10  ...  10.790426      0.0            0\n",
              "4  01/08/2019  5.10E+25  01/08/2019 8:19:10  ...  10.796104      0.0            0\n",
              "\n",
              "[5 rows x 8 columns]"
            ]
          },
          "metadata": {
            "tags": []
          },
          "execution_count": 9
        }
      ]
    },
    {
      "cell_type": "code",
      "metadata": {
        "id": "3keC0yRzXknY",
        "colab_type": "code",
        "outputId": "e775e70b-efc7-4d4c-93f1-eea815d3c7f2",
        "colab": {
          "base_uri": "https://localhost:8080/",
          "height": 204
        }
      },
      "source": [
        "logs.sample(5)"
      ],
      "execution_count": 10,
      "outputs": [
        {
          "output_type": "execute_result",
          "data": {
            "text/html": [
              "<div>\n",
              "<style scoped>\n",
              "    .dataframe tbody tr th:only-of-type {\n",
              "        vertical-align: middle;\n",
              "    }\n",
              "\n",
              "    .dataframe tbody tr th {\n",
              "        vertical-align: top;\n",
              "    }\n",
              "\n",
              "    .dataframe thead th {\n",
              "        text-align: right;\n",
              "    }\n",
              "</style>\n",
              "<table border=\"1\" class=\"dataframe\">\n",
              "  <thead>\n",
              "    <tr style=\"text-align: right;\">\n",
              "      <th></th>\n",
              "      <th>eventdate</th>\n",
              "      <th>vehicle</th>\n",
              "      <th>datetime</th>\n",
              "      <th>speed</th>\n",
              "      <th>longitude</th>\n",
              "      <th>latitude</th>\n",
              "      <th>heading</th>\n",
              "      <th>vehicleType</th>\n",
              "    </tr>\n",
              "  </thead>\n",
              "  <tbody>\n",
              "    <tr>\n",
              "      <th>516551</th>\n",
              "      <td>01/08/2019</td>\n",
              "      <td>54Y6761</td>\n",
              "      <td>01/08/2019 13:51:12</td>\n",
              "      <td>0.0</td>\n",
              "      <td>106.701142</td>\n",
              "      <td>10.785297</td>\n",
              "      <td>152.0</td>\n",
              "      <td>0</td>\n",
              "    </tr>\n",
              "    <tr>\n",
              "      <th>71519</th>\n",
              "      <td>01/08/2019</td>\n",
              "      <td>51B16667</td>\n",
              "      <td>01/08/2019 15:54:08</td>\n",
              "      <td>0.0</td>\n",
              "      <td>106.704139</td>\n",
              "      <td>10.775048</td>\n",
              "      <td>202.0</td>\n",
              "      <td>0</td>\n",
              "    </tr>\n",
              "    <tr>\n",
              "      <th>594827</th>\n",
              "      <td>01/08/2019</td>\n",
              "      <td>89A10696</td>\n",
              "      <td>01/08/2019 7:44:16</td>\n",
              "      <td>0.0</td>\n",
              "      <td>106.703003</td>\n",
              "      <td>10.791430</td>\n",
              "      <td>3.1</td>\n",
              "      <td>300</td>\n",
              "    </tr>\n",
              "    <tr>\n",
              "      <th>571469</th>\n",
              "      <td>01/08/2019</td>\n",
              "      <td>69A05590</td>\n",
              "      <td>01/08/2019 16:30:59</td>\n",
              "      <td>0.0</td>\n",
              "      <td>106.698921</td>\n",
              "      <td>10.756025</td>\n",
              "      <td>0.0</td>\n",
              "      <td>0</td>\n",
              "    </tr>\n",
              "    <tr>\n",
              "      <th>154324</th>\n",
              "      <td>01/08/2019</td>\n",
              "      <td>51D10811</td>\n",
              "      <td>01/08/2019 22:20:45</td>\n",
              "      <td>0.0</td>\n",
              "      <td>106.699569</td>\n",
              "      <td>10.778564</td>\n",
              "      <td>130.0</td>\n",
              "      <td>300</td>\n",
              "    </tr>\n",
              "  </tbody>\n",
              "</table>\n",
              "</div>"
            ],
            "text/plain": [
              "         eventdate   vehicle  ... heading  vehicleType\n",
              "516551  01/08/2019   54Y6761  ...   152.0            0\n",
              "71519   01/08/2019  51B16667  ...   202.0            0\n",
              "594827  01/08/2019  89A10696  ...     3.1          300\n",
              "571469  01/08/2019  69A05590  ...     0.0            0\n",
              "154324  01/08/2019  51D10811  ...   130.0          300\n",
              "\n",
              "[5 rows x 8 columns]"
            ]
          },
          "metadata": {
            "tags": []
          },
          "execution_count": 10
        }
      ]
    },
    {
      "cell_type": "code",
      "metadata": {
        "id": "lkZ-cOSEYFYl",
        "colab_type": "code",
        "outputId": "2bb13b70-d84d-405d-b610-6fe768180713",
        "colab": {
          "base_uri": "https://localhost:8080/",
          "height": 1000
        }
      },
      "source": [
        "logs['vehicle'].value_counts()"
      ],
      "execution_count": 11,
      "outputs": [
        {
          "output_type": "execute_result",
          "data": {
            "text/plain": [
              "51B27866     296\n",
              "51G59860     291\n",
              "59U124798    287\n",
              "51G77157     268\n",
              "51G04500     258\n",
              "51B17324     255\n",
              "51G33790     255\n",
              "65A19359     251\n",
              "51C67871     245\n",
              "71A04686     245\n",
              "54X1113      244\n",
              "51B17924     243\n",
              "51G67050     233\n",
              "51G56199     226\n",
              "51A39524     225\n",
              "51G24023     221\n",
              "51A50529     213\n",
              "51G37237     212\n",
              "51B17125     212\n",
              "80B5464      209\n",
              "51B05053     209\n",
              "51G30518     206\n",
              "54X6582      202\n",
              "51G56050     199\n",
              "51F23643     195\n",
              "80B5487      195\n",
              "51F23560     193\n",
              "51G48006     192\n",
              "51G39585     192\n",
              "51G65871     191\n",
              "            ... \n",
              "51B25161       1\n",
              "84B00282       1\n",
              "51H51366       1\n",
              "51G63925       1\n",
              "51H03743       1\n",
              "51F20529       1\n",
              "61A58151       1\n",
              "51F31011       1\n",
              "60LD01784      1\n",
              "51C65423       1\n",
              "51B25707       1\n",
              "51G29072       1\n",
              "60C00276       1\n",
              "51G36517       1\n",
              "51C29830       1\n",
              "51D28310       1\n",
              "51B23608       1\n",
              "60A55545       1\n",
              "51C54946       1\n",
              "63L8769        1\n",
              "51A93656       1\n",
              "60B05048       1\n",
              "51F31583       1\n",
              "71B00328       1\n",
              "51H54847       1\n",
              "62L9566        1\n",
              "51F45075A      1\n",
              "54Y3074        1\n",
              "51G51784       1\n",
              "51C73746       1\n",
              "Name: vehicle, Length: 37282, dtype: int64"
            ]
          },
          "metadata": {
            "tags": []
          },
          "execution_count": 11
        }
      ]
    },
    {
      "cell_type": "code",
      "metadata": {
        "id": "to9wMek5YweI",
        "colab_type": "code",
        "outputId": "29b481a5-1f22-447a-d2dd-94ba7fccbc81",
        "colab": {
          "base_uri": "https://localhost:8080/",
          "height": 204
        }
      },
      "source": [
        "logs[(logs['vehicle']=='5.10E+25') | (logs['vehicle']=='5.10E+26')].sample(5)"
      ],
      "execution_count": 12,
      "outputs": [
        {
          "output_type": "execute_result",
          "data": {
            "text/html": [
              "<div>\n",
              "<style scoped>\n",
              "    .dataframe tbody tr th:only-of-type {\n",
              "        vertical-align: middle;\n",
              "    }\n",
              "\n",
              "    .dataframe tbody tr th {\n",
              "        vertical-align: top;\n",
              "    }\n",
              "\n",
              "    .dataframe thead th {\n",
              "        text-align: right;\n",
              "    }\n",
              "</style>\n",
              "<table border=\"1\" class=\"dataframe\">\n",
              "  <thead>\n",
              "    <tr style=\"text-align: right;\">\n",
              "      <th></th>\n",
              "      <th>eventdate</th>\n",
              "      <th>vehicle</th>\n",
              "      <th>datetime</th>\n",
              "      <th>speed</th>\n",
              "      <th>longitude</th>\n",
              "      <th>latitude</th>\n",
              "      <th>heading</th>\n",
              "      <th>vehicleType</th>\n",
              "    </tr>\n",
              "  </thead>\n",
              "  <tbody>\n",
              "    <tr>\n",
              "      <th>28</th>\n",
              "      <td>01/08/2019</td>\n",
              "      <td>5.10E+26</td>\n",
              "      <td>01/08/2019 8:05:29</td>\n",
              "      <td>0.000</td>\n",
              "      <td>106.681717</td>\n",
              "      <td>10.782880</td>\n",
              "      <td>180.0</td>\n",
              "      <td>0</td>\n",
              "    </tr>\n",
              "    <tr>\n",
              "      <th>35</th>\n",
              "      <td>01/08/2019</td>\n",
              "      <td>5.10E+26</td>\n",
              "      <td>01/08/2019 15:54:39</td>\n",
              "      <td>19.000</td>\n",
              "      <td>106.681740</td>\n",
              "      <td>10.754796</td>\n",
              "      <td>180.0</td>\n",
              "      <td>300</td>\n",
              "    </tr>\n",
              "    <tr>\n",
              "      <th>29</th>\n",
              "      <td>01/08/2019</td>\n",
              "      <td>5.10E+26</td>\n",
              "      <td>01/08/2019 8:10:29</td>\n",
              "      <td>0.000</td>\n",
              "      <td>106.681717</td>\n",
              "      <td>10.785983</td>\n",
              "      <td>180.0</td>\n",
              "      <td>300</td>\n",
              "    </tr>\n",
              "    <tr>\n",
              "      <th>3</th>\n",
              "      <td>01/08/2019</td>\n",
              "      <td>5.10E+25</td>\n",
              "      <td>01/08/2019 8:13:10</td>\n",
              "      <td>27.000</td>\n",
              "      <td>106.681671</td>\n",
              "      <td>10.790426</td>\n",
              "      <td>0.0</td>\n",
              "      <td>0</td>\n",
              "    </tr>\n",
              "    <tr>\n",
              "      <th>7</th>\n",
              "      <td>01/08/2019</td>\n",
              "      <td>5.10E+25</td>\n",
              "      <td>01/08/2019 8:46:40</td>\n",
              "      <td>39.651</td>\n",
              "      <td>106.681682</td>\n",
              "      <td>10.791805</td>\n",
              "      <td>0.0</td>\n",
              "      <td>0</td>\n",
              "    </tr>\n",
              "  </tbody>\n",
              "</table>\n",
              "</div>"
            ],
            "text/plain": [
              "     eventdate   vehicle             datetime  ...   latitude  heading  vehicleType\n",
              "28  01/08/2019  5.10E+26   01/08/2019 8:05:29  ...  10.782880    180.0            0\n",
              "35  01/08/2019  5.10E+26  01/08/2019 15:54:39  ...  10.754796    180.0          300\n",
              "29  01/08/2019  5.10E+26   01/08/2019 8:10:29  ...  10.785983    180.0          300\n",
              "3   01/08/2019  5.10E+25   01/08/2019 8:13:10  ...  10.790426      0.0            0\n",
              "7   01/08/2019  5.10E+25   01/08/2019 8:46:40  ...  10.791805      0.0            0\n",
              "\n",
              "[5 rows x 8 columns]"
            ]
          },
          "metadata": {
            "tags": []
          },
          "execution_count": 12
        }
      ]
    },
    {
      "cell_type": "code",
      "metadata": {
        "id": "Xy3Cp1OFavMv",
        "colab_type": "code",
        "outputId": "ef366fbb-01fe-4b51-8289-b8a9fdd834ae",
        "colab": {
          "base_uri": "https://localhost:8080/",
          "height": 204
        }
      },
      "source": [
        "logs[logs['speed']==0].sample(5)"
      ],
      "execution_count": 13,
      "outputs": [
        {
          "output_type": "execute_result",
          "data": {
            "text/html": [
              "<div>\n",
              "<style scoped>\n",
              "    .dataframe tbody tr th:only-of-type {\n",
              "        vertical-align: middle;\n",
              "    }\n",
              "\n",
              "    .dataframe tbody tr th {\n",
              "        vertical-align: top;\n",
              "    }\n",
              "\n",
              "    .dataframe thead th {\n",
              "        text-align: right;\n",
              "    }\n",
              "</style>\n",
              "<table border=\"1\" class=\"dataframe\">\n",
              "  <thead>\n",
              "    <tr style=\"text-align: right;\">\n",
              "      <th></th>\n",
              "      <th>eventdate</th>\n",
              "      <th>vehicle</th>\n",
              "      <th>datetime</th>\n",
              "      <th>speed</th>\n",
              "      <th>longitude</th>\n",
              "      <th>latitude</th>\n",
              "      <th>heading</th>\n",
              "      <th>vehicleType</th>\n",
              "    </tr>\n",
              "  </thead>\n",
              "  <tbody>\n",
              "    <tr>\n",
              "      <th>80007</th>\n",
              "      <td>01/08/2019</td>\n",
              "      <td>51B20400</td>\n",
              "      <td>01/08/2019 17:58:57</td>\n",
              "      <td>0.0</td>\n",
              "      <td>106.693168</td>\n",
              "      <td>10.757132</td>\n",
              "      <td>158.0</td>\n",
              "      <td>0</td>\n",
              "    </tr>\n",
              "    <tr>\n",
              "      <th>173143</th>\n",
              "      <td>01/08/2019</td>\n",
              "      <td>51E02525</td>\n",
              "      <td>01/08/2019 15:47:04</td>\n",
              "      <td>0.0</td>\n",
              "      <td>106.687950</td>\n",
              "      <td>10.765918</td>\n",
              "      <td>204.0</td>\n",
              "      <td>0</td>\n",
              "    </tr>\n",
              "    <tr>\n",
              "      <th>149769</th>\n",
              "      <td>01/08/2019</td>\n",
              "      <td>51D03768</td>\n",
              "      <td>01/08/2019 9:10:38</td>\n",
              "      <td>0.0</td>\n",
              "      <td>106.686714</td>\n",
              "      <td>10.790847</td>\n",
              "      <td>182.0</td>\n",
              "      <td>0</td>\n",
              "    </tr>\n",
              "    <tr>\n",
              "      <th>9629</th>\n",
              "      <td>01/08/2019</td>\n",
              "      <td>37A35016</td>\n",
              "      <td>01/08/2019 8:55:18</td>\n",
              "      <td>0.0</td>\n",
              "      <td>106.697100</td>\n",
              "      <td>10.755380</td>\n",
              "      <td>0.0</td>\n",
              "      <td>300</td>\n",
              "    </tr>\n",
              "    <tr>\n",
              "      <th>99395</th>\n",
              "      <td>01/08/2019</td>\n",
              "      <td>51B26881</td>\n",
              "      <td>01/08/2019 14:01:50</td>\n",
              "      <td>0.0</td>\n",
              "      <td>106.683701</td>\n",
              "      <td>10.793715</td>\n",
              "      <td>180.0</td>\n",
              "      <td>0</td>\n",
              "    </tr>\n",
              "  </tbody>\n",
              "</table>\n",
              "</div>"
            ],
            "text/plain": [
              "         eventdate   vehicle  ... heading  vehicleType\n",
              "80007   01/08/2019  51B20400  ...   158.0            0\n",
              "173143  01/08/2019  51E02525  ...   204.0            0\n",
              "149769  01/08/2019  51D03768  ...   182.0            0\n",
              "9629    01/08/2019  37A35016  ...     0.0          300\n",
              "99395   01/08/2019  51B26881  ...   180.0            0\n",
              "\n",
              "[5 rows x 8 columns]"
            ]
          },
          "metadata": {
            "tags": []
          },
          "execution_count": 13
        }
      ]
    },
    {
      "cell_type": "code",
      "metadata": {
        "id": "kcgSP_a-a_yY",
        "colab_type": "code",
        "outputId": "221c9a99-4ccf-4830-d52e-f95693bca26a",
        "colab": {
          "base_uri": "https://localhost:8080/",
          "height": 136
        }
      },
      "source": [
        "# Remove all vehicle appear less than 20 times\n",
        "# logs.drop(logs['vehicle'].index)\n",
        "vehicleCount = logs.groupby(by='vehicle').size().reset_index()\n",
        "vehicleCount[vehicleCount[0]>20]"
      ],
      "execution_count": 51,
      "outputs": [
        {
          "output_type": "stream",
          "text": [
            "<class 'pandas.core.frame.DataFrame'>\n",
            "Int64Index: 7772 entries, 4 to 37276\n",
            "Data columns (total 2 columns):\n",
            "vehicle    7772 non-null object\n",
            "0          7772 non-null int64\n",
            "dtypes: int64(1), object(1)\n",
            "memory usage: 182.2+ KB\n"
          ],
          "name": "stdout"
        }
      ]
    }
  ]
}